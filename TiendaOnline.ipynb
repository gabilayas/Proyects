{
 "cells": [
  {
   "cell_type": "code",
   "execution_count": null,
   "id": "9d598d02",
   "metadata": {},
   "outputs": [],
   "source": [
    "class TiendaOnline: \n",
    "    def __init__ (self, nombre):\n",
    "        self.nombre = nombre \n",
    "        self.inventario= [] \n",
    "        self.ventas_totales= 0.0 \n",
    "        \n",
    "    def agregar_producto(self,nombre, precio, cantidad):\n",
    "        # Primero miro si le producto existe \n",
    "        for producto in self.inventario:\n",
    "            if producto[\"nombre\"] == nombre:\n",
    "                producto[\"cantidad\"] += cantidad  # Actualizo la cantidad\n",
    "                print(f\"Cantidad actualizada para {nombre}. Nueva cantidad: {producto[\"cantidad\"]}\")\n",
    "                return\n",
    "\n",
    "        # Si no existe, lo agrego con append\n",
    "        nuevo_producto = {\"nombre\": nombre,\"precio\": precio,\"cantidad\": cantidad}\n",
    "        self.inventario.append(nuevo_producto)\n",
    "        print(f\"Producto {nombre} ha sido agregado al inventario.\")\n",
    "\n",
    "    def ver_inventario(self):\n",
    "        if not self.inventario:\n",
    "            print(\"El inventario está vacío.\")\n",
    "\n",
    "        else: \n",
    "            for producto in self.inventario:\n",
    "                print(f\"Nombre: {producto[\"nombre\"]}, Precio: ${int(producto[\"precio\"])}, Cantidad: {producto[\"cantidad\"]}\")\n",
    "    \n",
    "        return self.inventario  \n",
    "      \n",
    "    def buscar_producto(self, nombre):\n",
    "        for producto in self.inventario:\n",
    "            if producto[\"nombre\"]== nombre:\n",
    "                print(f\"Nombre: {producto[\"nombre\"]}, Precio: ${producto[\"precio\"]}, Cantidad: {producto[\"cantidad\"]}\")\n",
    "                return\n",
    "        print(\"Producto no encontrado.\")\n",
    "\n",
    "    def actualizar_stock(self, nombre, cantidad):\n",
    "        for producto in self.inventario:\n",
    "            if producto[\"nombre\"] == nombre:\n",
    "                if producto[\"cantidad\"] + cantidad < 0:\n",
    "                    print(f\"No se puede reducir el stock de {nombre} por debajo de 0. Stock actual: {producto[\"cantidad\"]}\")\n",
    "                    return\n",
    "                producto[\"cantidad\"] += cantidad\n",
    "                print(f\"Stock de {nombre} actualizado. Nueva cantidad: {producto['cantidad']}\")\n",
    "                return\n",
    "        print(f\"Producto {nombre} no encontrado en el inventario.\")\n",
    "        \n",
    "    def eliminar_producto(self, nombre):\n",
    "        for producto in self.inventario:\n",
    "            if producto[\"nombre\"] == nombre:\n",
    "                self.inventario.remove(producto)\n",
    "                print(f\"Producto {nombre} eliminado del inventario.\")\n",
    "                return\n",
    "        print(f\"Producto {nombre} no encontrado en el inventario.\")\n",
    "\n",
    "    def calcular_valor_total(self):\n",
    "        valor_total = 0\n",
    "        for producto in self.inventario:\n",
    "            valor_producto = producto[\"precio\"] * producto[\"cantidad\"]\n",
    "            valor_total += valor_producto\n",
    "        print(f\"Valor total del inventario: €{valor_total}\")\n",
    "        return valor_total"
   ]
  },
  {
   "cell_type": "code",
   "execution_count": 42,
   "id": "05275a6c",
   "metadata": {},
   "outputs": [
    {
     "name": "stdout",
     "output_type": "stream",
     "text": [
      "------------AGREGAR PRODUCTOS------------------\n",
      "Producto camisa ha sido agregado al inventario.\n",
      "Producto pantalón ha sido agregado al inventario.\n",
      "Producto zapatos ha sido agregado al inventario.\n",
      "Producto patatas ha sido agregado al inventario.\n",
      "Cantidad actualizada para camisa. Nueva cantidad: 17\n"
     ]
    }
   ],
   "source": [
    "tiendita = TiendaOnline(\"Mi Tiendita Online\")\n",
    "print(\"------------AGREGAR PRODUCTOS------------------\") # Pruebo si funciona agregar producto (despues de mil errores lo logramos)\n",
    "tiendita.agregar_producto(\"camisa\", 30, 12)\n",
    "tiendita.agregar_producto(\"pantalón\", 25, 30)\n",
    "tiendita.agregar_producto(\"zapatos\", 50, 40)\n",
    "tiendita.agregar_producto(\"patatas\", 2, 5)\n",
    "tiendita.agregar_producto(\"camisa\", 30, 5)  # Pruebo si actualida la cantidad si repetimos el nombre \n"
   ]
  },
  {
   "cell_type": "code",
   "execution_count": null,
   "id": "8fa3e69a",
   "metadata": {},
   "outputs": [
    {
     "name": "stdout",
     "output_type": "stream",
     "text": [
      "-----------INVENTARIO----------------\n",
      "Nombre: camisa, Precio: $30, Cantidad: 17\n",
      "Nombre: pantalón, Precio: $25, Cantidad: 30\n",
      "Nombre: zapatos, Precio: $50, Cantidad: 40\n",
      "Nombre: patatas, Precio: $2, Cantidad: 5\n",
      "--------------------------------\n",
      "Inventario con el diccionario\n",
      "[{'nombre': 'camisa', 'precio': 30, 'cantidad': 17}, {'nombre': 'pantalón', 'precio': 25, 'cantidad': 30}, {'nombre': 'zapatos', 'precio': 50, 'cantidad': 40}, {'nombre': 'patatas', 'precio': 2, 'cantidad': 5}]\n"
     ]
    }
   ],
   "source": [
    "print(\"-----------INVENTARIO----------------\")\n",
    "inventario = tiendita.ver_inventario()\n",
    "print(\"--------------------------------\")\n",
    "print(\"Inventario con el diccionario\")  \n",
    "print(inventario)"
   ]
  },
  {
   "cell_type": "code",
   "execution_count": 44,
   "id": "450a744a",
   "metadata": {},
   "outputs": [
    {
     "name": "stdout",
     "output_type": "stream",
     "text": [
      "-------------BUSCAR PRODUCTOS-----------------\n",
      "Nombre: camisa, Precio: $30, Cantidad: 17\n",
      "Nombre: zapatos, Precio: $50, Cantidad: 40\n"
     ]
    }
   ],
   "source": [
    "print(\"-------------BUSCAR PRODUCTOS-----------------\")\n",
    "tiendita.buscar_producto(\"camisa\")  \n",
    "tiendita.buscar_producto(\"zapatos\") \n"
   ]
  },
  {
   "cell_type": "code",
   "execution_count": 45,
   "id": "9bcc4411",
   "metadata": {},
   "outputs": [
    {
     "name": "stdout",
     "output_type": "stream",
     "text": [
      "-------------ACTUALIZAR STOCK-----------------\n",
      "Producto Camisa ha sido agregado al inventario.\n",
      "Stock de Camisa actualizado. Nueva cantidad: 15\n",
      "Producto Zapatos no encontrado en el inventario.\n",
      "No se puede reducir el stock de Camisa por debajo de 0. Stock actual: 15\n"
     ]
    }
   ],
   "source": [
    "print(\"-------------ACTUALIZAR STOCK-----------------\")\n",
    "tiendita = TiendaOnline(\"Mi Tiendita Online\")\n",
    "tiendita.agregar_producto(\"Camisa\", 25, 10)\n",
    "\n",
    "tiendita.actualizar_stock(\"Camisa\", 5)      # Lo suma al inventario\n",
    "tiendita.actualizar_stock(\"Zapatos\", 3)     # Producto no existe\n",
    "tiendita.actualizar_stock(\"Camisa\", -20)    # Si es menos de 0"
   ]
  },
  {
   "cell_type": "code",
   "execution_count": 46,
   "id": "0e485181",
   "metadata": {},
   "outputs": [
    {
     "name": "stdout",
     "output_type": "stream",
     "text": [
      "------------------ELIMINAR PRODUCTOS-----------------\n",
      "Producto Camisa ha sido agregado al inventario.\n",
      "Producto Zapatos ha sido agregado al inventario.\n",
      "Producto Camisa eliminado del inventario.\n",
      "Producto Pantalón no encontrado en el inventario.\n",
      "Nombre: Zapatos, Precio: $50, Cantidad: 2\n",
      "[{'nombre': 'Zapatos', 'precio': 50, 'cantidad': 2}]\n"
     ]
    }
   ],
   "source": [
    "print(\"------------------ELIMINAR PRODUCTOS-----------------\")\n",
    "tiendita = TiendaOnline(\"Mi Tiendita Online\")\n",
    "tiendita.agregar_producto(\"Camisa\", 20, 5)\n",
    "tiendita.agregar_producto(\"Zapatos\", 50, 2)\n",
    "\n",
    "tiendita.eliminar_producto(\"Camisa\")    # Se elimina\n",
    "tiendita.eliminar_producto(\"Pantalón\")  # No existe\n",
    "\n",
    "print(tiendita.ver_inventario())"
   ]
  },
  {
   "cell_type": "code",
   "execution_count": 47,
   "id": "3b6f1f88",
   "metadata": {},
   "outputs": [
    {
     "name": "stdout",
     "output_type": "stream",
     "text": [
      "-------------VALOR INVENTARIO----------------\n",
      "Producto Camisa ha sido agregado al inventario.\n",
      "Producto Calcetines ha sido agregado al inventario.\n",
      "Valor total del inventario: €35\n"
     ]
    }
   ],
   "source": [
    "print(\"-------------VALOR INVENTARIO----------------\")\n",
    "tiendita = TiendaOnline(\"Mi Tiendita Online\")\n",
    "tiendita.agregar_producto(\"Camisa\", 5, 5)\n",
    "tiendita.agregar_producto(\"Calcetines\", 1, 10)\n",
    "\n",
    "valor = tiendita.calcular_valor_total()\n"
   ]
  }
 ],
 "metadata": {
  "kernelspec": {
   "display_name": "base",
   "language": "python",
   "name": "python3"
  },
  "language_info": {
   "codemirror_mode": {
    "name": "ipython",
    "version": 3
   },
   "file_extension": ".py",
   "mimetype": "text/x-python",
   "name": "python",
   "nbconvert_exporter": "python",
   "pygments_lexer": "ipython3",
   "version": "3.13.2"
  }
 },
 "nbformat": 4,
 "nbformat_minor": 5
}
